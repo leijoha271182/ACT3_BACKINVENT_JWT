{
  "nbformat": 4,
  "nbformat_minor": 0,
  "metadata": {
    "colab": {
      "provenance": [],
      "include_colab_link": true
    },
    "kernelspec": {
      "name": "python3",
      "display_name": "Python 3"
    },
    "language_info": {
      "name": "python"
    }
  },
  "cells": [
    {
      "cell_type": "markdown",
      "metadata": {
        "id": "view-in-github",
        "colab_type": "text"
      },
      "source": [
        "<a href=\"https://colab.research.google.com/github/leijoha271182/ACT3_BACKINVENT_JWT/blob/main/LEIDY_JOHANNA_OCAMPO_ARROYAVE_EvidenciaAprendizaje02_DiplomadoICD.ipynb\" target=\"_parent\"><img src=\"https://colab.research.google.com/assets/colab-badge.svg\" alt=\"Open In Colab\"/></a>"
      ]
    },
    {
      "cell_type": "markdown",
      "source": [
        "<div align=\"left\">\n",
        "<p><img alt=\"IUDigital\" height=\"140px\" src=\"https://www.iudigital.edu.co/Style%20Library/images/logo-escudo.png\" align=\"left\" hspace=\"10px\" vspace=\"0px\"></p></div>\n",
        "<div> </div>\n",
        "<div align=\"right\">\n",
        "<p><img alt=\"Posgrado\" height=\"140px\" src=\"https://www.iudigital.edu.co/OfertaEducativa/PublishingImages/Paginas/Tecnologia-en-Desarrollo-de-Software/19072021_Tecnologia_Dllo_Software_1200px.jpg\" align=\"right\" hspace=\"10px\" vspace=\"10px\"></p></div>\n",
        "<br></br>\n",
        "<br></br>\n",
        "<br></br>\n",
        "<br></br>\n",
        "<p>\n",
        "<h1> <b> Tarea 2 - Modelo de Regresión </b> </h1>\n",
        "<hr size=10 noshade color=\"red\">\n",
        "</p>"
      ],
      "metadata": {
        "id": "MMENbPF_9glo"
      }
    },
    {
      "cell_type": "markdown",
      "source": [
        "# **Evidencia de Aprendizaje 2**\n",
        "\n",
        "## Modelo de regresión"
      ],
      "metadata": {
        "id": "GbrNxOWfPG6I"
      }
    },
    {
      "cell_type": "code",
      "source": [
        "#@markdown # Ingresar el nombre de los estudiantes\n",
        "Estudiante_1 = \"Diana Patricia Galeano Mesa\" #@param {type:\"string\"}\n",
        "Estudiante_2 = \"Leidy Johanna Ocampo Arroyave\" #@param {type:\"string\"}\n",
        "Estudiante_3 = \"\"\n"
      ],
      "metadata": {
        "id": "GWJvViORSrfv"
      },
      "execution_count": null,
      "outputs": []
    },
    {
      "cell_type": "markdown",
      "source": [
        "# Descripción de la Evidencia de Aprendizaje\n",
        "\n",
        "Para llevar a cabo la presente actividad, se requiere presentar un documento en Google Colab donde se describa el procedimiento realizado para predecir valores utilizando un modelo de regresión de Machine Learning en un contexto de modelos supervisados. El documento de Google Colab debe incluir una introducción, el planteamiento del problema, una descripción detallada del procedimiento seguido y las conclusiones obtenidas. Además, se deben utilizar los datos de la tarea anterior y cargarlos desde GitHub. A partir de estos datos, se realizará una predicción de un valor, ya sea categórico o numérico. Asimismo, es necesario crear al menos tres gráficas que permitan visualizar información generalizada, incluyendo al menos una gráfica relacionada con los resultados obtenidos. También se debe realizar un análisis descriptivo de los resultados, utilizando métricas relevantes. Finalmente, el modelo debe alcanzar un score superior a 0.6."
      ],
      "metadata": {
        "id": "l4A6p61v9wTp"
      }
    },
    {
      "cell_type": "markdown",
      "source": [
        "# Instrucciones iniciales\n",
        "\n",
        "*   ## Defina un modelo a utilizar\n",
        "*   ## Siga los pasos detallados en clase\n",
        "*   ## Cree un un regresor, calcule los valores, almacénelos en una nueva columna.\n",
        "*   ## Calcule las métricas de aceptación para el modelo\n",
        "*   ## Describa los resultados."
      ],
      "metadata": {
        "id": "HqBYohcx9zE9"
      }
    },
    {
      "cell_type": "markdown",
      "source": [
        "# Instrucciones de la Evidencia de Aprendizaje:\n",
        "\n",
        "A partir de la información obtenida modifique el documento Google Colab cargado en el presente documento o modificado directamente de la tarea de Google Classroom.\n",
        "\n",
        "Describa el procedimiento realizado para crear el modelo de regresión.\n",
        "\n",
        "El documento Google Colab debe contar con:\n",
        ">*   Introducción\n",
        ">*   Planteamiento del problema\n",
        ">*   Descripción del valor a predecir.\n",
        ">*   Crear el modelo de regresión\n",
        ">*   Dividir los datos en entrenamiento y prueba\n",
        ">*   Predecir valores\n",
        ">*   Calcular las métricas de aceptación\n",
        ">*   Respuestas a Ruta Metodológica\n",
        ">*   Conclusiones\n",
        ">*   Cargar el documento con extensión ipynb"
      ],
      "metadata": {
        "id": "VAKUtb1d-CPI"
      }
    },
    {
      "cell_type": "markdown",
      "source": [
        "# Desarrollo de Ruta Metodológica\n",
        "\n",
        "Después de analizar la información extraída y transformada, responde a las siguientes preguntas:\n",
        "\n",
        ">*   ¿El valor o dato a predecir está bien seleccionado?\n",
        ">*   ¿El Score o métricas del modelo se ajustan a la realidad?\n",
        ">*   ¿Los tiempos de predicción son cortos, medianos, largos?\n",
        ">*   ¿Qué observaciones tienes del modelo y de sus resultados?\n",
        "\n",
        "Codifica toda la solución en un Notebook de Google Colab explicando cada paso usando las celdas de texto y código que provee esta herramienta. Recuerda que para ingresar a Google Colab debes ingresar usando la cuenta institucional, ya que esta cuenta tiene vinculado un Google workspace."
      ],
      "metadata": {
        "id": "Gikl1hoF-KLP"
      }
    },
    {
      "cell_type": "markdown",
      "source": [
        "**SOLUCIÓN**\n",
        "\n",
        "---"
      ],
      "metadata": {
        "id": "_Llo_Itp-jhX"
      }
    },
    {
      "cell_type": "markdown",
      "source": [
        "<div align=\"left\">\n",
        "<p><img alt=\"Ministerio de Transporte\" height=\"50px\" src= https://plc.mintransporte.gov.co/Portals/0/LogoMintransporteDoble.jpg?ver=2023-05-29-064645-627 align=\"left\" hspace=\"10px\" vspace=\"0px\"></p></div>\n",
        "\n",
        "<div align =\"center\">\n",
        "<h1> <b>   REGISTRO DE VIAJE MUNICIPAL </b> </h1>\n",
        " <h2> <b> Ministerio de Transporte-Registro de tiempos logísticos de viaje municipal</b> </h1>\n",
        " </div>\n",
        "\n",
        "\n",
        "<h2> <b>   INTRODUCCIÓN </b> </h2>\n",
        "<div align =\"justify\">\n",
        "<p><br>El Ministerio de Transporte ha buscado realizar seguimiento al proceso de logística del transporte de carga, con el propósito de reconocer y controlar el movimiento de estos vehículos al interior del país y en cumplimiento normativo de regulación del servicio público.  Para llevar a cabo dicho control y vigilancia ha establecido algunos sistemas de información que han facilitado esta función como lo es el registro de Viaje Municipal por parte de las empresas de transporte, que permite conocer información sobre las condiciones y características de cada viaje, lugar pactado para cargue y descargue de mercancía, tiempos de desplazamiento, vehículo responsable, entre otros datos importantes.</br>\n",
        "<br>A partir de los datos recolectados por el Ministerio de Transporte, se pretende generar algunos pronósticos que permitan al Ministerio definir estrategias futuras en términos de políticas públicas que mejoren las condiciones de los transportadores, articular acciones con otras agencias del país como INVIAS, Ministeerio agropecuario, entre otros, con el propósito de mejorar condiciones de los transportadores y del transporte en general. </br>\n",
        " </p>\n",
        " </div>"
      ],
      "metadata": {
        "id": "eB0mcaoR9MxP"
      }
    },
    {
      "cell_type": "markdown",
      "source": [
        "<h2> <b>   PLANTEAMIENTO DEL PROBLEMA </b> </h2>\n",
        "<div align =\"justify\">\n",
        "<p>El transporte de carga en Colombia es un factor fundamental de la economía, pues a través de este los productos son trasladados de forma eficiente entre los diferentes departamentos y municipios.  La movilización de los diferentes vehículos de carga, su control y vigilancia son responsabilidad del Ministerio de Transporte quien a través de diferentes sistemas de información y/o plataformas ha facilitado el conocimiento de las características de cada traslado y o flujo de los vehículos de carga.\n",
        "\n",
        "<br>Actualmente se cuenta con información que describe ciudades de salida y de destino, hora de viaje, tipo de carga, producto, tiempo de carga y descarga, sin embargo esta información marca un punto de partida importante para calcular la cantidad de productos, materiales y otros que se transportan por las carreteras del país, siendo esta información valiosa para reconocer las necesidades de vehículos, carreteras y mejoras a la infraestructura que deberán realizarse para garantizar el flujo vehicular en cinco o diez años.<br>\n",
        "\n",
        "<br>Se hace necesario mejorar la eficiencia logística con modelos predictivos que permitan cuantificar o proyectar las necesidades de carga del país y de esta manera establecer políticas de transporte que faciliten la movilización de productos, materiales entre otros que son de necesidad de la población colombiana</br>\n",
        " </p>\n",
        " </div>"
      ],
      "metadata": {
        "id": "9bSfoaLi_NmW"
      }
    },
    {
      "cell_type": "markdown",
      "source": [
        "<h2> <b>   DESCRIPCIÓN DEL VALOR A PREDECIR </b> </h2>\n",
        "<div align =\"justify\">\n",
        "<p>Se pretende identificar y pronosticar el tiempo de viaje de un vehículo de carga que recibe un valor por el viaje de $6.035.000.</p>"
      ],
      "metadata": {
        "id": "r0FUY0w2_3Du"
      }
    },
    {
      "cell_type": "markdown",
      "source": [
        "<h2> <b>   CREAR EL MODELO DE REGRESIÓN </b> </h2>\n",
        "\n",
        "Revisemos los datos:\n",
        "[https://raw.githubusercontent.com/leijoha271182/Tiempos_logistica_cargue/1e2d8a12c02b91ebe749be3776d8fc3865f4100d/Data/Tiempos_Logisticos_vehiculos_de_carga_Trabajo.csv](https://raw.githubusercontent.com/leijoha271182/Tiempos_logistica_cargue/1e2d8a12c02b91ebe749be3776d8fc3865f4100d/Data/Tiempos_Logisticos_vehiculos_de_carga_Trabajo.csv)\n"
      ],
      "metadata": {
        "id": "A8hOLclXC9wf"
      }
    },
    {
      "cell_type": "code",
      "source": [
        "import warnings\n",
        "warnings.simplefilter(\"ignore\")\n",
        "import math\n",
        "import numpy as np\n",
        "import pandas as pd\n",
        "import matplotlib.pyplot as plt\n",
        "import seaborn as sns\n",
        "from sklearn.metrics import confusion_matrix\n",
        "from sklearn.linear_model import LinearRegression\n",
        "from sklearn.linear_model import LogisticRegression\n",
        "from sklearn.dummy import DummyClassifier #Binning\n",
        "from sklearn.model_selection import train_test_split\n",
        "from sklearn.model_selection import cross_val_score\n",
        "from sklearn.preprocessing import StandardScaler\n",
        "\n",
        "\n",
        "ruta = 'https://raw.githubusercontent.com/leijoha271182/Tiempos_logistica_cargue/1e2d8a12c02b91ebe749be3776d8fc3865f4100d/Data/Tiempos_Logisticos_vehiculos_de_carga_Trabajo.csv'\n",
        "df = pd.read_csv(ruta, sep=\";\")\n",
        "df.dtypes"
      ],
      "metadata": {
        "id": "HzP-qOz1DSIv"
      },
      "execution_count": null,
      "outputs": []
    },
    {
      "cell_type": "code",
      "source": [
        "df.columns"
      ],
      "metadata": {
        "colab": {
          "base_uri": "https://localhost:8080/"
        },
        "id": "8Qsja_ZVGk3v",
        "outputId": "88f1363b-2852-4d4e-9a4e-f9025f35116e"
      },
      "execution_count": 417,
      "outputs": [
        {
          "output_type": "execute_result",
          "data": {
            "text/plain": [
              "Index(['NATURALEZA', 'PRODUCTO', 'CANTIDAD', 'CARGUE', 'DESCARGUE',\n",
              "       'HORAS_VIAJE', 'VALOR_PACTADO', 'VALOR_PAGADO',\n",
              "       'CANTIDAD_REMESAS_VIAJE', 'EMPRESA_TRANSPORTE', 'SEGUNDOS_VIAJE'],\n",
              "      dtype='object')"
            ]
          },
          "metadata": {},
          "execution_count": 417
        }
      ]
    },
    {
      "cell_type": "code",
      "source": [
        "df.shape"
      ],
      "metadata": {
        "id": "fqjRJkZFHru4"
      },
      "execution_count": null,
      "outputs": []
    },
    {
      "cell_type": "code",
      "source": [
        "print(df.describe(include='all'))"
      ],
      "metadata": {
        "id": "O-3RYHoIHNw2"
      },
      "execution_count": null,
      "outputs": []
    },
    {
      "cell_type": "code",
      "source": [
        "nan_count = df.isna().sum()\n",
        "print(nan_count )"
      ],
      "metadata": {
        "id": "E43llb0BHzKv"
      },
      "execution_count": null,
      "outputs": []
    },
    {
      "cell_type": "code",
      "source": [
        "df.nunique()"
      ],
      "metadata": {
        "id": "idk-UXISH3PH"
      },
      "execution_count": null,
      "outputs": []
    },
    {
      "cell_type": "code",
      "source": [
        "df1 = df.copy()"
      ],
      "metadata": {
        "id": "7Nv6aY-CH3Ev"
      },
      "execution_count": 402,
      "outputs": []
    },
    {
      "cell_type": "code",
      "source": [
        "print(df.iloc[[18574]])"
      ],
      "metadata": {
        "id": "TfQQCVzqxadv"
      },
      "execution_count": null,
      "outputs": []
    },
    {
      "cell_type": "code",
      "source": [
        "df = df1"
      ],
      "metadata": {
        "id": "hPQaQDQpapME"
      },
      "execution_count": 406,
      "outputs": []
    },
    {
      "cell_type": "code",
      "source": [
        "#Se eliminan columnas que no aportan al objetivo del análisis\n",
        "df = df.drop(columns=['PLACA', 'CONDUCTOR', 'UNID_MEDIDA','COD_PRODUCTO','CODIGO_CARGUE', 'CODIGO_DESCARGUE', 'HORAS_ESPERA_CARGUE', 'HORAS_ESPERA_DESCARGUE', 'HORAS_CARGUE','HORAS_DESCARGUE'])\n"
      ],
      "metadata": {
        "id": "HR1UfOkALVya"
      },
      "execution_count": 407,
      "outputs": []
    },
    {
      "cell_type": "code",
      "source": [
        "df.shape"
      ],
      "metadata": {
        "id": "jUEBpmK9L8pR",
        "colab": {
          "base_uri": "https://localhost:8080/"
        },
        "outputId": "287c6a26-b8a9-4e50-f828-974f86e134fd"
      },
      "execution_count": 408,
      "outputs": [
        {
          "output_type": "execute_result",
          "data": {
            "text/plain": [
              "(76456, 10)"
            ]
          },
          "metadata": {},
          "execution_count": 408
        }
      ]
    },
    {
      "cell_type": "code",
      "source": [
        "print(df.describe(include='all'))"
      ],
      "metadata": {
        "id": "tqGCBA-PbjHi"
      },
      "execution_count": null,
      "outputs": []
    },
    {
      "cell_type": "code",
      "source": [
        "# Traduce los valores categóricos de NATURALEZA, PRODUCTO, CARGUE, DESCARGUE Y CANTIDAD DE REMESAS a números enteros\n",
        "df['NATURALEZA'] = df['NATURALEZA'].astype('category').cat.codes #one hot encoding\n",
        "df['PRODUCTO'] = df['PRODUCTO'].astype('category').cat.codes\n",
        "df['CARGUE'] = df['CARGUE'].astype('category').cat.codes\n",
        "df['DESCARGUE'] = df['DESCARGUE'].astype('category').cat.codes\n",
        "df['CANTIDAD'] = df['CANTIDAD'].astype('category').cat.codes\n",
        "df.head()"
      ],
      "metadata": {
        "id": "fduwU_gKMtiQ"
      },
      "execution_count": null,
      "outputs": []
    },
    {
      "cell_type": "code",
      "source": [
        "#Convertir variables object a enteros\n",
        "df['CANTIDAD'] = df['CANTIDAD'].astype(float)\n",
        "df['CANTIDAD_REMESAS_VIAJE'] = df['CANTIDAD_REMESAS_VIAJE'].astype(float)"
      ],
      "metadata": {
        "id": "KjlUOvi2lLAv"
      },
      "execution_count": 411,
      "outputs": []
    },
    {
      "cell_type": "code",
      "source": [
        "df.dtypes"
      ],
      "metadata": {
        "id": "_6cpPLrUfm4r"
      },
      "execution_count": null,
      "outputs": []
    },
    {
      "cell_type": "code",
      "source": [
        "#Convertir la variable HORAS_VIAJE en SEGUNDOS_VIAJE\n",
        "def separar_float(HORAS_VIAJE):\n",
        "    parte_entera = int(HORAS_VIAJE)\n",
        "    parte_decimal = HORAS_VIAJE - parte_entera\n",
        "    Horas_seg = parte_entera * 3600\n",
        "    Min_seg = parte_decimal * 360\n",
        "    SEGUNDOS_VIAJE =  Horas_seg + Min_seg\n",
        "    return SEGUNDOS_VIAJE\n",
        "\n",
        "# Aplicar la función al DataFrame para obtener las dos partes separadas\n",
        "df[['SEGUNDOS_VIAJE']] = df['HORAS_VIAJE'].apply(lambda x: pd.Series(separar_float(x)))\n",
        "%time"
      ],
      "metadata": {
        "id": "arHodFJZhRz8"
      },
      "execution_count": null,
      "outputs": []
    },
    {
      "cell_type": "code",
      "source": [
        "print(df.describe(include='all'))"
      ],
      "metadata": {
        "id": "DQHIh952M2LZ"
      },
      "execution_count": null,
      "outputs": []
    },
    {
      "cell_type": "code",
      "source": [
        "df.dtypes"
      ],
      "metadata": {
        "id": "Gng4DphsmFE-"
      },
      "execution_count": null,
      "outputs": []
    },
    {
      "cell_type": "code",
      "source": [
        "nan_count = df.isna().sum()\n",
        "print(nan_count )"
      ],
      "metadata": {
        "id": "QUW2abWnkOlO"
      },
      "execution_count": null,
      "outputs": []
    },
    {
      "cell_type": "code",
      "source": [
        "# HISTOGRAMA DE NATURALEZA DE LA CARGA\n",
        "df['NATURALEZA'].hist(bins=10, edgecolor='black')\n",
        "\n",
        "# Agrega etiquetas a los ejes x e y y un título al gráfico\n",
        "plt.xlabel('Valores')\n",
        "plt.ylabel('Frecuencia')\n",
        "plt.title('TIPO DE CARGA')\n",
        "\n",
        "# Muestra el histograma\n",
        "plt.show()"
      ],
      "metadata": {
        "id": "jNKQ1fOWnvDv"
      },
      "execution_count": null,
      "outputs": []
    },
    {
      "cell_type": "code",
      "source": [
        "# HISTOGRAMA DE MUNICIPIO DE CARGUE\n",
        "df['CARGUE'].hist(bins=10, edgecolor='black')\n",
        "\n",
        "# Agrega etiquetas a los ejes x e y y un título al gráfico\n",
        "plt.xlabel('Valores')\n",
        "plt.ylabel('Frecuencia')\n",
        "plt.title('MUNICIPIO DE CARGUE')\n",
        "\n",
        "# Muestra el histograma\n",
        "plt.show()"
      ],
      "metadata": {
        "id": "dBypVU8HSA-b"
      },
      "execution_count": null,
      "outputs": []
    },
    {
      "cell_type": "code",
      "source": [
        "# HISTOGRAMA DE MUNICIPIO DE DESCARGUE\n",
        "df['DESCARGUE'].hist(bins=10, edgecolor='black')\n",
        "\n",
        "# Agrega etiquetas a los ejes x e y y un título al gráfico\n",
        "plt.xlabel('Valores')\n",
        "plt.ylabel('Frecuencia')\n",
        "plt.title('MUNICIPIO DE DESCARGUE')\n",
        "\n",
        "# Muestra el histograma\n",
        "plt.show()"
      ],
      "metadata": {
        "id": "Zw9RkDd_SHOb"
      },
      "execution_count": null,
      "outputs": []
    },
    {
      "cell_type": "code",
      "source": [
        "# HISTOGRAMA DE PRODUCTO TRANSPORTADO\n",
        "df['PRODUCTO'].hist(bins=10, edgecolor='black')\n",
        "\n",
        "# Agrega etiquetas a los ejes x e y y un título al gráfico\n",
        "plt.xlabel('Valores')\n",
        "plt.ylabel('Frecuencia')\n",
        "plt.title('PRODUCTO TRANSPORTADO')\n",
        "\n",
        "# Muestra el histograma\n",
        "plt.show()"
      ],
      "metadata": {
        "id": "v8_9APuASNey"
      },
      "execution_count": null,
      "outputs": []
    },
    {
      "cell_type": "code",
      "source": [
        "# HISTOGRAMA DE VALOR PAGADO\n",
        "df['VALOR_PAGADO'].hist(bins=10, edgecolor='black')\n",
        "\n",
        "# Agrega etiquetas a los ejes x e y y un título al gráfico\n",
        "plt.xlabel('Valores')\n",
        "plt.ylabel('Frecuencia')\n",
        "plt.title('VALOR PAGADO')\n",
        "\n",
        "# Muestra el histograma\n",
        "plt.show()"
      ],
      "metadata": {
        "colab": {
          "base_uri": "https://localhost:8080/",
          "height": 472
        },
        "id": "XgYhw4Pi4vO3",
        "outputId": "84aeca02-1f0c-421d-d685-4649a81bf660"
      },
      "execution_count": 418,
      "outputs": [
        {
          "output_type": "display_data",
          "data": {
            "text/plain": [
              "<Figure size 640x480 with 1 Axes>"
            ],
            "image/png": "[encoded data removed]"
          },
          "metadata": {}
        }
      ]
    },
    {
      "cell_type": "code",
      "source": [
        "# HISTOGRAMA DE SEGUNDOS_VIAJE\n",
        "df['SEGUNDOS_VIAJE'].hist(bins=5, edgecolor='black')\n",
        "\n",
        "# Agrega etiquetas a los ejes x e y y un título al gráfico\n",
        "plt.xlabel('Valores')\n",
        "plt.ylabel('Frecuencia')\n",
        "plt.title('TIEMPO DE VIAJE (en segundos)')\n",
        "\n",
        "# Muestra el histograma\n",
        "plt.show()"
      ],
      "metadata": {
        "id": "ViVR8baDpIHU"
      },
      "execution_count": null,
      "outputs": []
    },
    {
      "cell_type": "code",
      "source": [
        "df2 = df.copy() #ya tengo los datos procesados y listos para arrancar\n",
        "df2.to_csv('Transporte_Logistico.csv')\n",
        "df2.head(3)"
      ],
      "metadata": {
        "id": "kDrssDBVpXm0"
      },
      "execution_count": null,
      "outputs": []
    },
    {
      "cell_type": "code",
      "source": [
        "# Escalamiento de los datos\n",
        "X = df[['VALOR_PAGADO']].values\n",
        "y = df['SEGUNDOS_VIAJE'].values.reshape(-1, 1)\n",
        "\n",
        "sc_x = StandardScaler() #Crear una instancia\n",
        "sc_y = StandardScaler()\n",
        "\n",
        "X_std = sc_x.fit_transform(X)\n",
        "y_std = sc_y.fit_transform(y)\n",
        "print(X_std)"
      ],
      "metadata": {
        "id": "TE2STCZwpm3F"
      },
      "execution_count": null,
      "outputs": []
    },
    {
      "cell_type": "code",
      "source": [
        "#Normalizar los datos\n",
        "df['NATURALEZA'] = sc_x.fit_transform(df[['NATURALEZA']])\n"
      ],
      "metadata": {
        "id": "8c-_sN_lTalZ"
      },
      "execution_count": 422,
      "outputs": []
    },
    {
      "cell_type": "code",
      "source": [
        "df['VALOR_PAGADO'] = sc_x.fit_transform(df[['VALOR_PAGADO']])\n",
        "df.head()"
      ],
      "metadata": {
        "id": "zHljqC_Hs0QH"
      },
      "execution_count": null,
      "outputs": []
    },
    {
      "cell_type": "code",
      "source": [
        "df['CARGUE'] = sc_x.fit_transform(df[['CARGUE']])\n",
        "df.head()"
      ],
      "metadata": {
        "id": "ReAXw0fLUnQc"
      },
      "execution_count": null,
      "outputs": []
    },
    {
      "cell_type": "code",
      "source": [
        "df['DESCARGUE'] = sc_x.fit_transform(df[['DESCARGUE']])\n",
        "df.head()"
      ],
      "metadata": {
        "id": "nCkZKTAoUqIq"
      },
      "execution_count": null,
      "outputs": []
    },
    {
      "cell_type": "code",
      "source": [
        "df['PRODUCTO'] = sc_x.fit_transform(df[['PRODUCTO']])\n",
        "df.head()"
      ],
      "metadata": {
        "id": "sroF99NxUwF6"
      },
      "execution_count": null,
      "outputs": []
    },
    {
      "cell_type": "code",
      "source": [
        "df['CANTIDAD'] = sc_x.fit_transform(df[['CANTIDAD']])\n",
        "df.head()"
      ],
      "metadata": {
        "id": "ydRL6wpTUyM4"
      },
      "execution_count": null,
      "outputs": []
    },
    {
      "cell_type": "code",
      "source": [
        "#Exportemos los datos para disponer de ellos mas adelante.\n",
        "df3 = df.copy() #ya tengo los datos procesados y listos para arrancar\n",
        "df3.to_csv('Variables_escaladas_normalizadas.csv')"
      ],
      "metadata": {
        "id": "2iWRGsLfU6Cq"
      },
      "execution_count": 429,
      "outputs": []
    },
    {
      "cell_type": "code",
      "source": [
        "#Separación de los datos\n",
        "#Variables --> 'NATURALEZA','CARGUE','DESCARGUE','PRODUCTO','CANTIDAD'\n",
        "X = df[['VALOR_PAGADO']]\n",
        "y = df[['SEGUNDOS_VIAJE']]\n",
        "original = X.copy()\n",
        "print(X, y)"
      ],
      "metadata": {
        "id": "moGvMa7jVaMq"
      },
      "execution_count": null,
      "outputs": []
    },
    {
      "cell_type": "code",
      "source": [
        "plt.scatter(X,y)"
      ],
      "metadata": {
        "id": "4K6zpIn5sLhd"
      },
      "execution_count": null,
      "outputs": []
    },
    {
      "cell_type": "markdown",
      "source": [
        "####**DIVIDIR LOS DATOS EN ENTRENAMIENTO Y PRUEBA**`"
      ],
      "metadata": {
        "id": "pIyCiuHUxwYX"
      }
    },
    {
      "cell_type": "code",
      "source": [
        "#train_test_split, parte automticamente los valores entregando x e y definiendo el 20% testsize y el random state = 3 para repetir el modelo.\n",
        "X_train, X_test, y_train, y_test = train_test_split(X,y,test_size=0.2,random_state=3)\n",
        "print(type(X_test))\n",
        "print(type(y_test))"
      ],
      "metadata": {
        "colab": {
          "base_uri": "https://localhost:8080/"
        },
        "id": "iUd1vkpgWLTy",
        "outputId": "b980221d-8322-4757-e0e6-e8dc5a8845d3"
      },
      "execution_count": 376,
      "outputs": [
        {
          "output_type": "stream",
          "name": "stdout",
          "text": [
            "<class 'pandas.core.frame.DataFrame'>\n",
            "<class 'pandas.core.frame.DataFrame'>\n"
          ]
        }
      ]
    },
    {
      "cell_type": "code",
      "source": [
        "#Se detalla el tamaño de ambos conjuntos de entrenamiento y de prueba\n",
        "X.shape,y.shape"
      ],
      "metadata": {
        "colab": {
          "base_uri": "https://localhost:8080/"
        },
        "id": "ytrnkUWoWz8h",
        "outputId": "c744d0a2-8ddb-4edf-e3f0-4213aaff240b"
      },
      "execution_count": 432,
      "outputs": [
        {
          "output_type": "execute_result",
          "data": {
            "text/plain": [
              "((76456, 1), (76456, 1))"
            ]
          },
          "metadata": {},
          "execution_count": 432
        }
      ]
    },
    {
      "cell_type": "code",
      "source": [
        "X_train.shape,X_test.shape,y_train.shape,y_test.shape"
      ],
      "metadata": {
        "colab": {
          "base_uri": "https://localhost:8080/"
        },
        "id": "LSMK37XgXQVC",
        "outputId": "101c9eee-892f-44f9-b3f5-1403dff84314"
      },
      "execution_count": 433,
      "outputs": [
        {
          "output_type": "execute_result",
          "data": {
            "text/plain": [
              "((61164, 1), (15292, 1), (61164, 1), (15292, 1))"
            ]
          },
          "metadata": {},
          "execution_count": 433
        }
      ]
    },
    {
      "cell_type": "code",
      "source": [
        "#MODELO DE REGRESIÓN LINEAL\n",
        "from sklearn import linear_model\n",
        "from sklearn.metrics import mean_squared_error,mean_absolute_error"
      ],
      "metadata": {
        "id": "MS3XBaL0YEEK"
      },
      "execution_count": 435,
      "outputs": []
    },
    {
      "cell_type": "code",
      "source": [
        "linear_regression = linear_model.LinearRegression()\n",
        "linear_regression.fit(X_train, y_train) # Entrenamiento del modelo, fit es el metodo que busca la mejor regresion lineal\n",
        "y_pred = linear_regression.predict(X_train)\n",
        "%time"
      ],
      "metadata": {
        "colab": {
          "base_uri": "https://localhost:8080/"
        },
        "id": "0FftMju7Z9t-",
        "outputId": "d82d253d-7344-4a57-832f-4e6880ae1a9e"
      },
      "execution_count": 448,
      "outputs": [
        {
          "output_type": "stream",
          "name": "stdout",
          "text": [
            "CPU times: user 4 µs, sys: 0 ns, total: 4 µs\n",
            "Wall time: 7.39 µs\n"
          ]
        }
      ]
    },
    {
      "cell_type": "code",
      "source": [
        "w = linear_regression.coef_ #capturamos el coefieciente de x\n",
        "b = linear_regression.intercept_ #capturamos el intercepto\n",
        "print(w,b)"
      ],
      "metadata": {
        "colab": {
          "base_uri": "https://localhost:8080/"
        },
        "id": "gsM-yqm-a5Gq",
        "outputId": "c97d9801-58b0-4165-b3fe-29095ed52d1f"
      },
      "execution_count": 449,
      "outputs": [
        {
          "output_type": "stream",
          "name": "stdout",
          "text": [
            "[[30261.35986641]] [131529.08987616]\n"
          ]
        }
      ]
    },
    {
      "cell_type": "markdown",
      "source": [
        "####**CALCULAR LAS MÉTRICAS DE ACEPTACIÓN**"
      ],
      "metadata": {
        "id": "-MMv9xPnyGbm"
      }
    },
    {
      "cell_type": "code",
      "source": [
        "score = linear_regression.score(X,y)\n",
        "y_predicted = linear_regression.predict(X)\n",
        "mse = mean_squared_error(y, y_predicted)\n",
        "mae = mean_absolute_error(y, y_predicted)\n"
      ],
      "metadata": {
        "id": "SgqzThxvmdA_"
      },
      "execution_count": 450,
      "outputs": []
    },
    {
      "cell_type": "code",
      "source": [
        "print('-------------------')\n",
        "print('La pendiente: ', '{:,.4f}'.format(w[0][0]))\n",
        "print('El intercepto: ', '{:,.4f}'.format(b[0]))\n",
        "print('El score R²: ', '{:,.4f}'.format(score))\n",
        "print('El MSE: ', '{:,.4f}'.format(mse))\n",
        "print('El MAE: ', '{:,.4f}'.format(mae))\n",
        "print('-------------------')\n",
        "plt.plot(X, y_predicted, 'k-')\n",
        "plt.plot(X, y, 'ro')\n",
        "plt.show()"
      ],
      "metadata": {
        "colab": {
          "base_uri": "https://localhost:8080/",
          "height": 573
        },
        "id": "E2R19dBkozn7",
        "outputId": "2afab1f4-cb11-4fda-cb1c-7fb62da2d850"
      },
      "execution_count": 446,
      "outputs": [
        {
          "output_type": "stream",
          "name": "stdout",
          "text": [
            "-------------------\n",
            "La pendiente:  30,261.3599\n",
            "El intercepto:  131,529.0899\n",
            "El score R²:  0.0461\n",
            "El MSE:  19,645,555,634.8534\n",
            "El MAE:  84,754.3145\n",
            "-------------------\n"
          ]
        },
        {
          "output_type": "display_data",
          "data": {
            "text/plain": [
              "<Figure size 640x480 with 1 Axes>"
            ],
            "image/png": "[encoded data removed]"
          },
          "metadata": {}
        }
      ]
    },
    {
      "cell_type": "code",
      "source": [
        "dfmodel = df.copy"
      ],
      "metadata": {
        "id": "sLr227knumom"
      },
      "execution_count": 440,
      "outputs": []
    },
    {
      "cell_type": "markdown",
      "source": [
        "####**PREDECIR VALORES**"
      ],
      "metadata": {
        "id": "saLO3_jAyUfK"
      }
    },
    {
      "cell_type": "code",
      "source": [
        "linear_regression = linear_model.LinearRegression()\n",
        "linear_regression.fit(X_train, y_train)\n",
        "y_pred = linear_regression.predict(X_test) #y_pred es el valor predico de mi valor comercial\n",
        "print(y_pred)"
      ],
      "metadata": {
        "colab": {
          "base_uri": "https://localhost:8080/"
        },
        "id": "9VrCiX_63Nwm",
        "outputId": "df2b0255-ab35-4e1a-fd38-d90d23ab6fb1"
      },
      "execution_count": 441,
      "outputs": [
        {
          "output_type": "stream",
          "name": "stdout",
          "text": [
            "[[134808.2371527 ]\n",
            " [110845.2178849 ]\n",
            " [136961.17247005]\n",
            " ...\n",
            " [176767.99739816]\n",
            " [165139.1495587 ]\n",
            " [137705.45869345]]\n"
          ]
        }
      ]
    },
    {
      "cell_type": "code",
      "source": [
        "plt.scatter(X_train,y_train)\n",
        "plt.scatter(X_train,y_pred)\n",
        "plt.show()"
      ],
      "metadata": {
        "colab": {
          "base_uri": "https://localhost:8080/",
          "height": 445
        },
        "id": "OfETEKzi3xLD",
        "outputId": "ad5b4c60-5e61-4962-c084-26ac75c3dbfc"
      },
      "execution_count": 451,
      "outputs": [
        {
          "output_type": "display_data",
          "data": {
            "text/plain": [
              "<Figure size 640x480 with 1 Axes>"
            ],
            "image/png": "[encoded data removed]"
          },
          "metadata": {}
        }
      ]
    },
    {
      "cell_type": "code",
      "source": [
        "#PREDICCIONES\n",
        "print(df.iloc[[18574]])"
      ],
      "metadata": {
        "colab": {
          "base_uri": "https://localhost:8080/"
        },
        "id": "Gsq3IYR-rK8u",
        "outputId": "ae1ff5e5-602f-45b2-fea1-7ff660b463f7"
      },
      "execution_count": 387,
      "outputs": [
        {
          "output_type": "stream",
          "name": "stdout",
          "text": [
            "       NATURALEZA  PRODUCTO  CANTIDAD  CARGUE  DESCARGUE  HORAS_VIAJE  \\\n",
            "18574   -0.248873        82    3899.0      99         94        36.52   \n",
            "\n",
            "       VALOR_PACTADO  VALOR_PAGADO  CANTIDAD_REMESAS_VIAJE  \\\n",
            "18574      6035000.0      3.300794                     1.0   \n",
            "\n",
            "       EMPRESA_TRANSPORTE  SEGUNDOS_VIAJE  \n",
            "18574                3177        129787.2  \n"
          ]
        }
      ]
    },
    {
      "cell_type": "code",
      "source": [
        "#predicciones sobre datos sencillos.\n",
        "print(linear_regression.predict(X.iloc[[18574]]))\n",
        "print(type(df.iloc[[18574]]))\n",
        "%time"
      ],
      "metadata": {
        "colab": {
          "base_uri": "https://localhost:8080/"
        },
        "id": "SkN7CtY_u0NA",
        "outputId": "f0ccaed4-6187-4d6e-9e63-d2a4621903ea"
      },
      "execution_count": 391,
      "outputs": [
        {
          "output_type": "stream",
          "name": "stdout",
          "text": [
            "[[233073.44690227]]\n",
            "<class 'pandas.core.frame.DataFrame'>\n",
            "CPU times: user 4 µs, sys: 0 ns, total: 4 µs\n",
            "Wall time: 8.11 µs\n"
          ]
        }
      ]
    },
    {
      "cell_type": "code",
      "source": [
        "plt.scatter(X_train,y_train)\n",
        "plt.scatter(X_train,y_pred)\n",
        "plt.show()"
      ],
      "metadata": {
        "colab": {
          "base_uri": "https://localhost:8080/",
          "height": 445
        },
        "id": "czw80B1D2w-H",
        "outputId": "1e3f398a-caf9-4bc6-f72f-3fea61a7676c"
      },
      "execution_count": 453,
      "outputs": [
        {
          "output_type": "display_data",
          "data": {
            "text/plain": [
              "<Figure size 640x480 with 1 Axes>"
            ],
            "image/png": "[encoded data removed]"
          },
          "metadata": {}
        }
      ]
    },
    {
      "cell_type": "markdown",
      "source": [
        "####**RESPUESTAS RUTA METODOLÓGICA**\n",
        "\n",
        "**Después de analizar la información extraída y transformada, responde a las siguientes preguntas:**\n",
        "\n",
        "<br>**¿El valor o dato a predecir está bien seleccionado?**</br>\n",
        "Si, se selecciona un dato que se encuentra dentro del conjunto de los datos, con este se consigue validar si los resultados del valor predicho es coincidente con el verdadero.\n",
        "\n",
        "Para este ejercicio debido a que su coeficiente de determinación R^2 (es tan bajo menos del 10%) su explicación o significancia no es muy válida.\n",
        "\n",
        "Se recomienda aplicar otro modelo de predicción ya que la regresión lineal no se ajusta muy bien.\n",
        "\n",
        "\n",
        "\n",
        "<br>**¿El Score o métricas del modelo se ajustan a la realidad?**</br>\n",
        "No, se observa una variación alta de más del 70% entre el valor real y el predicho, además las métricas ya lo han indicado debido a que su mismo coeficiente de determinación es muy pequeño.\n",
        "\n",
        "\n",
        "<br>**¿Los tiempos de predicción son cortos, medianos, largos?**</br>\n",
        "En general los tiempos de predicción son cortos para 76456 registros y dos variables, se tardó en generar la predicción total 4 µs.\n",
        "\n",
        "</br>**¿Qué observaciones tienes del modelo y de sus resultados?**</br>\n",
        "Que no es un modelo adecuado para los datos utilizados pues no se ajusta de forma óptima, se hicieron diferentes ejercicios: primero se adicionaron cuatro varibales y el modelo no explicaba ni el 1%, se redujo el número de variables a una sola y logró explicar el 4%.\n",
        "Es necesario validar algunos temas previo a la elección del modelo y las variables a utilizar, dado que se desconoce la rigurosidad de la recolección de los datos, correlación entre variables y se podría utilizar alguna otra variable respuesta para evidenciar diferencias en el modelo."
      ],
      "metadata": {
        "id": "xg4UT3uayhMi"
      }
    },
    {
      "cell_type": "markdown",
      "source": [
        "###**CONCLUSIONES**\n",
        "\n",
        "Se consigue validar a través de la aplicación del código el funcionamiento de los modelos de regresión lineal, pues con los datos obtenidos se puede tener claridad sobre su real aplicación en el medio.\n",
        "\n",
        "Se evidencia que a través de este modelo no es posible la explicación de la variable independiente, es necesario evaluar otras variables en la base de datos.\n",
        "\n",
        "El ejercicio amplía el conocimiento sobre la utilidad de los datos y las posibilidades de análisis de los mismos."
      ],
      "metadata": {
        "id": "2UBdvr8pyuel"
      }
    }
  ]
}